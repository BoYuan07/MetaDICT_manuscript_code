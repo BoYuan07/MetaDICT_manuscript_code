{
 "cells": [
  {
   "cell_type": "markdown",
   "id": "648da507",
   "metadata": {},
   "source": [
    "# Implement of scANVI method\n",
    "\n",
    "We save the scANVI results as csv table, then load the results in R for following analysis."
   ]
  },
  {
   "cell_type": "code",
   "execution_count": null,
   "id": "a6b84966",
   "metadata": {
    "scrolled": true
   },
   "outputs": [],
   "source": [
    "import scvi\n",
    "import torch\n",
    "import anndata as ad\n",
    "import numpy as np\n",
    "import pandas as pd\n",
    "import math\n",
    "from scipy.sparse import csr_matrix"
   ]
  },
  {
   "cell_type": "code",
   "execution_count": null,
   "id": "177413d3",
   "metadata": {},
   "outputs": [],
   "source": [
    "# load count\n",
    "count = pd.read_csv(\"count\",header = 0, index_col=0)\n",
    "count = count.to_numpy()\n",
    "count_csr = csr_matrix(count.T, dtype=np.float32)\n",
    "\n",
    "# load meta\n",
    "meta = pd.read_csv(\"meta\",header = 0, index_col=0)\n",
    "\n",
    "# batch variable\n",
    "batch = meta[\"batch\"].tolist()\n",
    "\n",
    "# convert format\n",
    "adata = ad.AnnData(count_csr)\n",
    "adata.obs_names = [f\"Sample_{i:d}\" for i in range(adata.n_obs)]\n",
    "adata.var_names = [f\"Taxon_{i:d}\" for i in range(adata.n_vars)]\n",
    "adata = ad.AnnData(adata.X, obs=meta)\n",
    "adata.layers[\"count\"] = adata.X\n",
    "\n",
    "# sample covariate used in data integration\n",
    "adata.obs[\"Y\"] = adata.obs[\"Y\"].astype(str)\n",
    "\n",
    "# scVI to remove batch effects\n",
    "scvi.model.SCVI.setup_anndata(adata, layer=\"count\", batch_key=\"batch\")\n",
    "model = scvi.model.SCVI(adata)\n",
    "model.train()\n",
    "\n",
    "# scANVI to incorporate sample covariate information\n",
    "scanvi_model = scvi.model.SCANVI.from_scvi_model(\n",
    "    model,\n",
    "    adata=adata,\n",
    "    labels_key=\"Y\",\n",
    "    unlabeled_category=\"Unknown\",\n",
    ")\n",
    "scanvi_model.train(max_epochs=20, n_samples_per_label=100)\n",
    "res = scanvi_model.get_latent_representation(adata)\n",
    "df2 = pd.DataFrame(res)\n",
    "df2.to_csv(\"scanvi_res.csv\")"
   ]
  }
 ],
 "metadata": {
  "kernelspec": {
   "display_name": ".conda",
   "language": "python",
   "name": "python3"
  },
  "language_info": {
   "codemirror_mode": {
    "name": "ipython",
    "version": 3
   },
   "file_extension": ".py",
   "mimetype": "text/x-python",
   "name": "python",
   "nbconvert_exporter": "python",
   "pygments_lexer": "ipython3",
   "version": "3.11.11"
  }
 },
 "nbformat": 4,
 "nbformat_minor": 5
}
