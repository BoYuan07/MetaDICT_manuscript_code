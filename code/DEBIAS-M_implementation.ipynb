{
 "cells": [
  {
   "cell_type": "markdown",
   "id": "b7c7afd8",
   "metadata": {},
   "source": [
    "# Implementation of DEBIAS-M\n",
    "\n",
    "We save the results of DEBIAS-M as csv table, then load it in R for following analysis."
   ]
  },
  {
   "cell_type": "code",
   "execution_count": null,
   "id": "afb00b51-d61b-4a85-854a-7431793d4153",
   "metadata": {},
   "outputs": [],
   "source": [
    "from debiasm import DebiasMClassifier\n",
    "import numpy as np\n",
    "import pandas as pd\n",
    "import math\n",
    "from sklearn.preprocessing import LabelEncoder"
   ]
  },
  {
   "cell_type": "code",
   "execution_count": null,
   "id": "b59d09e9",
   "metadata": {},
   "outputs": [],
   "source": [
    "# code for binary covariate\n",
    "\n",
    "count = pd.read_csv(\"count\",header = 0,index_col=0)\n",
    "\n",
    "# sample by taxa \n",
    "count = count.to_numpy().T\n",
    "\n",
    "meta = pd.read_csv(\"meta\",header = 0,index_col=0)\n",
    "\n",
    "# convert batch variable and sample covariate to numerical values\n",
    "# Y is the target covariate of interest\n",
    "le = LabelEncoder()\n",
    "batch = le.fit_transform(meta[\"batch\"])\n",
    "Y = le.fit_transform(meta[\"Y\"])\n",
    "\n",
    "X_with_batch = np.hstack((batch[:, np.newaxis], count))\n",
    "\n",
    "# set referece batch\n",
    "val_inds = batch==0\n",
    "X_train, X_val = X_with_batch[~val_inds], X_with_batch[val_inds]\n",
    "Y_train, Y_val = Y[~val_inds], Y[val_inds]\n",
    "\n",
    "### Run DEBIAS-M, using standard sklearn object methods\n",
    "dmc = DebiasMClassifier(x_val=X_val) ## give it the held-out inputs to account for\n",
    "                                    ## those domains shifts while training\n",
    "dmc.fit(X_train, Y_train)\n",
    "\n",
    "X_debiassed = dmc.transform(X_with_batch)\n",
    "df1 = pd.DataFrame(X_debiassed)\n",
    "df1.to_csv(\"debiasm_res.csv\")"
   ]
  },
  {
   "cell_type": "code",
   "execution_count": null,
   "id": "28f82229",
   "metadata": {},
   "outputs": [],
   "source": [
    "# code for continuous covariate\n",
    "from debiasm import DebiasMRegressor\n",
    "\n",
    "count = pd.read_csv(\"count\",header = 0,index_col=0)\n",
    "\n",
    "# sample by taxa \n",
    "count = count.to_numpy().T\n",
    "\n",
    "meta = pd.read_csv(\"meta\",header = 0,index_col=0)\n",
    "\n",
    "le = LabelEncoder()\n",
    "batch = le.fit_transform(meta[\"batch\"])\n",
    "\n",
    "X_with_batch = np.hstack((batch[:, np.newaxis], count))\n",
    "# target variable of interest\n",
    "Y = np.array(meta[\"Y\"])\n",
    "\n",
    "val_inds = batch==0\n",
    "X_train, X_val = X_with_batch[~val_inds], X_with_batch[val_inds]\n",
    "Y_train, Y_val = Y[~val_inds], Y[val_inds]\n",
    "\n",
    "### Run DEBIAS-M, using standard sklearn object methods\n",
    "dmc = DebiasMRegressor(x_val=X_val) ## give it the held-out inputs to account for\n",
    "                                    ## those domains shifts while training\n",
    "dmc.fit(X_train, Y_train)\n",
    "\n",
    "X_debiassed = dmc.transform(X_with_batch)\n",
    "df2 = pd.DataFrame(X_debiassed)\n",
    "df2.to_csv(\"debiasm_res_2.csv\")"
   ]
  }
 ],
 "metadata": {
  "kernelspec": {
   "display_name": "py39",
   "language": "python",
   "name": "python3"
  },
  "language_info": {
   "codemirror_mode": {
    "name": "ipython",
    "version": 3
   },
   "file_extension": ".py",
   "mimetype": "text/x-python",
   "name": "python",
   "nbconvert_exporter": "python",
   "pygments_lexer": "ipython3",
   "version": "3.9.21"
  }
 },
 "nbformat": 4,
 "nbformat_minor": 5
}
